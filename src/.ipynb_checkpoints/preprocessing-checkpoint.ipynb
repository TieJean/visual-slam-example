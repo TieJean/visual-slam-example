{
 "cells": [
  {
   "cell_type": "code",
   "execution_count": 1,
   "id": "90742b01",
   "metadata": {},
   "outputs": [],
   "source": [
    "import numpy as np\n",
    "import cv2\n",
    "from tqdm import tqdm\n",
    "from matplotlib import pyplot as plt"
   ]
  },
  {
   "cell_type": "code",
   "execution_count": 2,
   "id": "43b83d01",
   "metadata": {},
   "outputs": [],
   "source": [
    "DATA_DIR = '../data/'"
   ]
  },
  {
   "cell_type": "code",
   "execution_count": 4,
   "id": "575b7bad",
   "metadata": {},
   "outputs": [
    {
     "ename": "NameError",
     "evalue": "name 'orb' is not defined",
     "output_type": "error",
     "traceback": [
      "\u001b[0;31m---------------------------------------------------------------------------\u001b[0m",
      "\u001b[0;31mNameError\u001b[0m                                 Traceback (most recent call last)",
      "\u001b[0;32m/var/folders/9h/grb065k559sbc950k5zqc6400000gn/T/ipykernel_60445/1511284229.py\u001b[0m in \u001b[0;36m<module>\u001b[0;34m\u001b[0m\n\u001b[1;32m     11\u001b[0m \u001b[0;31m# kp:  key points\u001b[0m\u001b[0;34m\u001b[0m\u001b[0;34m\u001b[0m\u001b[0m\n\u001b[1;32m     12\u001b[0m \u001b[0;31m# des: descriptors\u001b[0m\u001b[0;34m\u001b[0m\u001b[0;34m\u001b[0m\u001b[0m\n\u001b[0;32m---> 13\u001b[0;31m \u001b[0mkp1\u001b[0m\u001b[0;34m,\u001b[0m \u001b[0mdes1\u001b[0m \u001b[0;34m=\u001b[0m \u001b[0morb\u001b[0m\u001b[0;34m.\u001b[0m\u001b[0mdetectAndCompute\u001b[0m\u001b[0;34m(\u001b[0m\u001b[0mimg1\u001b[0m\u001b[0;34m,\u001b[0m \u001b[0;32mNone\u001b[0m\u001b[0;34m)\u001b[0m\u001b[0;34m\u001b[0m\u001b[0;34m\u001b[0m\u001b[0m\n\u001b[0m\u001b[1;32m     14\u001b[0m \u001b[0mkp2\u001b[0m\u001b[0;34m,\u001b[0m \u001b[0mdes2\u001b[0m \u001b[0;34m=\u001b[0m \u001b[0morb\u001b[0m\u001b[0;34m.\u001b[0m\u001b[0mdetectAndCompute\u001b[0m\u001b[0;34m(\u001b[0m\u001b[0mimg2\u001b[0m\u001b[0;34m,\u001b[0m \u001b[0;32mNone\u001b[0m\u001b[0;34m)\u001b[0m\u001b[0;34m\u001b[0m\u001b[0;34m\u001b[0m\u001b[0m\n\u001b[1;32m     15\u001b[0m \u001b[0;34m\u001b[0m\u001b[0m\n",
      "\u001b[0;31mNameError\u001b[0m: name 'orb' is not defined"
     ]
    }
   ],
   "source": [
    "img1 = cv2.imread(DATA_DIR + 'rgb/1311877812.989574.png')\n",
    "img2 = cv2.imread(DATA_DIR + 'rgb/1311877815.792670.png')\n",
    "img1 = cv2.cvtColor(img1, cv2.COLOR_RGB2GRAY) \n",
    "img2 = cv2.cvtColor(img2, cv2.COLOR_RGB2GRAY) \n",
    "\n",
    "# Initiate SIFT detector\n",
    "# IMPORTANT: ORB_create() instead of ORB()\n",
    "orb = ORB_create()\n",
    "\n",
    "# find the keypoints and descriptors with SIFT\n",
    "# kp:  key points\n",
    "# des: descriptors\n",
    "kp1, des1 = orb.detectAndCompute(img1, None) \n",
    "kp2, des2 = orb.detectAndCompute(img2, None)\n",
    "\n",
    "# create BFMatcher object\n",
    "bf = cv2.BFMatcher(cv2.NORM_HAMMING, crossCheck=True)\n",
    "\n",
    "# Match descriptors.\n",
    "matches = bf.match(des1,des2)\n",
    "\n",
    "# Sort them in the order of their distance.\n",
    "matches = sorted(matches, key = lambda x:x.distance)"
   ]
  },
  {
   "cell_type": "code",
   "execution_count": null,
   "id": "9b83312c",
   "metadata": {},
   "outputs": [],
   "source": [
    "# # Draw first 10 matches.\n",
    "img3 = cv2.drawMatches(img1,kp1,img2,kp2,matches[:10],None)\n",
    "\n",
    "plt.figure(figsize = (20,30))\n",
    "plt.imshow(img3),plt.show()"
   ]
  },
  {
   "cell_type": "code",
   "execution_count": null,
   "id": "85a50f06",
   "metadata": {},
   "outputs": [],
   "source": [
    "print(kp1[matches[0].queryIdx].pt, kp2[matches[0].queryIdx].pt)"
   ]
  },
  {
   "cell_type": "code",
   "execution_count": null,
   "id": "d34fbf5e",
   "metadata": {},
   "outputs": [],
   "source": [
    "kp1[1].pt"
   ]
  },
  {
   "cell_type": "code",
   "execution_count": null,
   "id": "7d31c6f2",
   "metadata": {},
   "outputs": [],
   "source": [
    "des1"
   ]
  },
  {
   "cell_type": "code",
   "execution_count": null,
   "id": "428e0956",
   "metadata": {},
   "outputs": [],
   "source": [
    "img_depth = cv2.imread(DATA_DIR + 'depth/1311877812.987032.png')\n"
   ]
  },
  {
   "cell_type": "code",
   "execution_count": null,
   "id": "1fc383a2",
   "metadata": {},
   "outputs": [],
   "source": []
  },
  {
   "cell_type": "code",
   "execution_count": null,
   "id": "5a96084c",
   "metadata": {},
   "outputs": [],
   "source": []
  }
 ],
 "metadata": {
  "kernelspec": {
   "display_name": "Python 3 (ipykernel)",
   "language": "python",
   "name": "python3"
  },
  "language_info": {
   "codemirror_mode": {
    "name": "ipython",
    "version": 3
   },
   "file_extension": ".py",
   "mimetype": "text/x-python",
   "name": "python",
   "nbconvert_exporter": "python",
   "pygments_lexer": "ipython3",
   "version": "3.9.7"
  }
 },
 "nbformat": 4,
 "nbformat_minor": 5
}
